{
 "cells": [
  {
   "cell_type": "code",
   "execution_count": 12,
   "id": "9df53251-e75e-41c5-8ccc-8c2a82fafd57",
   "metadata": {},
   "outputs": [],
   "source": [
    "import math\n",
    "from scipy.stats import t\n",
    "import numpy as np"
   ]
  },
  {
   "cell_type": "markdown",
   "id": "c6ff0cd3-4d96-4673-97ba-5f965621be6f",
   "metadata": {},
   "source": [
    "# Problema 1\n",
    "Un científico de datos está analizando los niveles de sódio en dos lotes diferentes de un mismo producto. El científico quiere determinar si los niveles de sódio son iguales para ambos lotes, por lo tanto, recabó las siguientes dos muestras de datos\n",
    "\n",
    "Lote A -(número de muestras 15): Nivel de Sodio (mg) -> 180, 160, 170, 190, 200, 175, 185, 195, 180, 170, 190, 185, 200, 175, 165\n",
    "\n",
    "Lote B - (número de muestras 20): Nivel de Sodio (mg) -> 210, 215, 220, 225, 230, 215, 220, 225, 230, 235, 210, 215, 220, 225, 230, 215, 220, 225, 230, 23\n",
    "\n",
    "La varianza poblacional para el lote A es 57.05 y para el lote B  34.63. Con un nivel del confianza del 85% determina si ambos lotes tienen en promedio el mismo nivel de sódio."
   ]
  },
  {
   "cell_type": "code",
   "execution_count": 2,
   "id": "243abc68-cd95-4e85-ae27-445bc89d8439",
   "metadata": {},
   "outputs": [],
   "source": [
    "muestra_A = [180, 160, 170, 190, 200, 175, 185, 195, 180, 170, 190, 185, 200, 175, 165]\n",
    "muestra_B = [210, 215, 220, 225, 230, 215, 220, 225, 230, 235, 210, 215, 220, 225, 230, 215, 220, 225, 230, 23]\n",
    "var_A = 57.05\n",
    "var_B = 34.63"
   ]
  },
  {
   "cell_type": "markdown",
   "id": "e689ec99-d656-4b7c-97cc-eb804cb41bd0",
   "metadata": {},
   "source": [
    "Para determinar si ambos lotes tienen el mismo nivel promedio de sódio, podemos usar la prueba t para muestras independientes. Este es un enfoque común en estadísticas cuando queremos comparar las medias de dos grupos diferentes.\n",
    "\n",
    "La fórmula para la prueba t para muestras independientes con varianzas conocidas es:\n",
    "$$\n",
    "t = \\frac{(M1 - M2) - D}{\\sqrt{\\frac{\\sigma_1^2}{n1} + \\frac{\\sigma_2^2}{n2}}}\n",
    "$$\n"
   ]
  },
  {
   "cell_type": "code",
   "execution_count": 4,
   "id": "280a206a-0f9f-4b0a-8549-2940104d5390",
   "metadata": {},
   "outputs": [],
   "source": [
    "# Calcular el estadístico de las muestras\n",
    "\n",
    "t_stat = (sum(muestra_A) - sum(muestra_B) / len(muestra_B)) / math.sqrt(var_A / len(muestra_A) + var_B / len(muestra_B))"
   ]
  },
  {
   "cell_type": "code",
   "execution_count": 9,
   "id": "7cea34ed-f40a-4606-b1c0-65aa86c30577",
   "metadata": {},
   "outputs": [],
   "source": [
    "# Valor crítico \n",
    "alpha = 1 - 0.85\n",
    "df = len(muestra_A) + len(muestra_B) - 2\n",
    "t_critico = t.ppf(1 - alpha/2, df)"
   ]
  },
  {
   "cell_type": "code",
   "execution_count": 10,
   "id": "c40737ed-8d53-4a8c-8cdb-268bb24337d8",
   "metadata": {},
   "outputs": [
    {
     "name": "stdout",
     "output_type": "stream",
     "text": [
      "Valor de t calculado: 1066.08682016679\n",
      "Valor de t crítico: ±1.4738430690180062\n"
     ]
    }
   ],
   "source": [
    "print(f\"Valor de t calculado: {t_stat}\")\n",
    "print(f\"Valor de t crítico: ±{t_critico}\")"
   ]
  },
  {
   "cell_type": "markdown",
   "id": "6d17f2ec-64ee-433c-a4d0-ec400940a14d",
   "metadata": {},
   "source": [
    "# Problema 4\n",
    "\n",
    "Se han tomado dos muestras del número de días que tardan los egresados de las universidades A y B en encontrar trabajo\n",
    "\n",
    "Universidad A: -> 180, 200, 190, 210, 175, 185, 195, 180, 205, 190, 200, 185, 210, 175, 195\n",
    "\n",
    "Universidad B: -> 210, 215, 220, 225, 230, 215, 220, 225, 230, 235, 210, 215, 220, 225, 230, 235\n",
    "\n",
    " Utilizando un nivel de confianza del 95%, determina si hay evidencia estadística suficiente para concluir que existe una diferencia significativa en el tiempo promedio de busqueda de empleo entre ambas universidades.\n",
    "\n",
    "Hint: Utiliza la distribución t-student"
   ]
  },
  {
   "cell_type": "code",
   "execution_count": 13,
   "id": "9058a6cb-8396-48f0-85ea-5d1c7fd5856a",
   "metadata": {},
   "outputs": [],
   "source": [
    "# Datos de las muestras\n",
    "uni_A = [180, 200, 190, 210, 175, 185, 195, 180, 205, 190, 200, 185, 210, 175, 195]\n",
    "uni_B = [210, 215, 220, 225, 230, 215, 220, 225, 230, 235, 210, 215, 220, 225, 230, 235]\n",
    "\n",
    "# Tamaños de las muestras\n",
    "n_A = len(uni_A)\n",
    "n_B = len(uni_B)\n",
    "\n",
    "# Medias de las muestras\n",
    "media_A = np.mean(uni_A)\n",
    "media_B = np.mean(uni_B)\n",
    "\n",
    "# Varianzas muestrales\n",
    "var_A = np.var(uni_A, ddof=1)\n",
    "var_B = np.var(uni_B, ddof=1)"
   ]
  },
  {
   "cell_type": "code",
   "execution_count": 14,
   "id": "5ff40eb9-d3f6-48ed-ac72-726b29cf6f5a",
   "metadata": {},
   "outputs": [],
   "source": [
    "t_stat = (media_A - media_B) / math.sqrt(var_A / n_A + var_B / n_B)"
   ]
  },
  {
   "cell_type": "code",
   "execution_count": 15,
   "id": "c1bfa3ad-07bc-4543-8508-9299dd8c1c85",
   "metadata": {},
   "outputs": [],
   "source": [
    "# Grados de libertad\n",
    "df = n_A + n_B - 2\n",
    "\n",
    "# Nivel de significancia\n",
    "alpha = 0.05\n",
    "\n",
    "# Valor t crítico de dos colas\n",
    "t_critico = t.ppf(1 - alpha/2, df)"
   ]
  },
  {
   "cell_type": "code",
   "execution_count": 16,
   "id": "412efe1b-b8c4-40d0-a009-95c32b1e2cf9",
   "metadata": {},
   "outputs": [
    {
     "name": "stdout",
     "output_type": "stream",
     "text": [
      "Valor de t calculado: -8.431518513947449\n",
      "Valor de t crítico: ±2.0452296421327034\n"
     ]
    }
   ],
   "source": [
    "print(f\"Valor de t calculado: {t_stat}\")\n",
    "print(f\"Valor de t crítico: ±{t_critico}\")"
   ]
  },
  {
   "cell_type": "code",
   "execution_count": null,
   "id": "4404841b-1d40-4089-91eb-5cb8567d155b",
   "metadata": {},
   "outputs": [],
   "source": []
  }
 ],
 "metadata": {
  "kernelspec": {
   "display_name": "Python 3 (ipykernel)",
   "language": "python",
   "name": "python3"
  },
  "language_info": {
   "codemirror_mode": {
    "name": "ipython",
    "version": 3
   },
   "file_extension": ".py",
   "mimetype": "text/x-python",
   "name": "python",
   "nbconvert_exporter": "python",
   "pygments_lexer": "ipython3",
   "version": "3.11.4"
  }
 },
 "nbformat": 4,
 "nbformat_minor": 5
}
